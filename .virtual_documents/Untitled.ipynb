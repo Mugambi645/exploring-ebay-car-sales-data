








import numpy as np
import pandas as pd


#Read data
file_path = pd.read_csv("data/autos.csv")



